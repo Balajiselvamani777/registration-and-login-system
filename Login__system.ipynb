{
  "nbformat": 4,
  "nbformat_minor": 0,
  "metadata": {
    "colab": {
      "name": "Login _system.ipynb",
      "provenance": [],
      "authorship_tag": "ABX9TyPF719zMtaNGUmiyFTdGFbY",
      "include_colab_link": true
    },
    "kernelspec": {
      "name": "python3",
      "display_name": "Python 3"
    },
    "language_info": {
      "name": "python"
    }
  },
  "cells": [
    {
      "cell_type": "markdown",
      "metadata": {
        "id": "view-in-github",
        "colab_type": "text"
      },
      "source": [
        "<a href=\"https://colab.research.google.com/github/Balajiselvamani777/registration-and-login-system/blob/main/Login__system.ipynb\" target=\"_parent\"><img src=\"https://colab.research.google.com/assets/colab-badge.svg\" alt=\"Open In Colab\"/></a>"
      ]
    },
    {
      "cell_type": "code",
      "source": [
        "import csv"
      ],
      "metadata": {
        "id": "flGyHFgqoHpr"
      },
      "execution_count": 3,
      "outputs": []
    },
    {
      "cell_type": "markdown",
      "source": [
        "user function()"
      ],
      "metadata": {
        "id": "Eq-gIrYpr1D6"
      }
    },
    {
      "cell_type": "code",
      "execution_count": 4,
      "metadata": {
        "id": "sZxHq5IXOY3D"
      },
      "outputs": [],
      "source": [
        "def user():\n",
        "  a = 0\n",
        "  while a==0:\n",
        "    print(\"please enter a password  @gmail.com or @yahoo.com\")\n",
        "    email = input(\"Enter a username:\",)\n",
        "    if email.endswith(\"@gmail.com\") or email.endswith(\"@yahoo.com\"):\n",
        "      pass\n",
        "    else:\n",
        "      print\n",
        "      ormat = email.split(\"@\")\n",
        "    if email_format[0].isalnum() and len(email_format[0])>0:\n",
        "        if email_format[0][0].isalpha():\n",
        "         a = 1\n",
        "        else:\n",
        "          print(\"email_id or username should be not in specific format in char or numbers.\")\n",
        "          continue\n",
        "          b = \"@\"\n",
        "          print(f\"There should be special char before in {b}\")\n",
        "  return email"
      ]
    },
    {
      "cell_type": "code",
      "source": [
        "user()"
      ],
      "metadata": {
        "id": "3p3A-B7hrLiN"
      },
      "execution_count": null,
      "outputs": []
    },
    {
      "cell_type": "markdown",
      "source": [
        "password func()"
      ],
      "metadata": {
        "id": "_HGUJ2qNATqE"
      }
    },
    {
      "cell_type": "code",
      "source": [
        "def pswd():\n",
        "  print(\"password format should be in one uppercase,one lowercase and one digit \")\n",
        "  print(\"password limit in length between 5 < password < 16\")\n",
        "  a = 0\n",
        "  while a == 0:\n",
        "    pswd = input(\"Enter a pasword:\",)\n",
        "    if 5 <len(pswd)<16:\n",
        "      if pswd.isalpha()==False:\n",
        "        pass\n",
        "        if pswd == pswd.upper():\n",
        "          print(\"password should atlest in one lowercase.\")\n",
        "        elif pswd == pswd.lower():\n",
        "          print(\"password should atlest in one uppercase.\")\n",
        "        else:\n",
        "          a = 1\n",
        "      else:\n",
        "          print(\"password not in a format should be one digit.\")\n",
        "    else:\n",
        "        print(\"password not in a format should be in length in 5<password<16 .\")\n",
        "  return pswd "
      ],
      "metadata": {
        "id": "y_gmyPrUXblk"
      },
      "execution_count": 5,
      "outputs": []
    },
    {
      "cell_type": "code",
      "source": [
        "pswd()"
      ],
      "metadata": {
        "id": "f8nmKKt-rPiK"
      },
      "execution_count": null,
      "outputs": []
    },
    {
      "cell_type": "markdown",
      "source": [
        "new_register()\n"
      ],
      "metadata": {
        "id": "8S6Js26ZJvag"
      }
    },
    {
      "cell_type": "code",
      "source": [
        "def new_user():\n",
        "   user_id = user()\n",
        "   password = pswd()\n",
        "   with open(\"user_data.csv\",mode=\"a\", newline=\"\")as f:\n",
        "      writer = csv.writer(f,delimiter=\",\")\n",
        "      print(\"your successfully registerd,please login\")\n",
        "      \n",
        "        \n"
      ],
      "metadata": {
        "id": "6R9Yuge-Jm8Y"
      },
      "execution_count": 15,
      "outputs": []
    },
    {
      "cell_type": "code",
      "source": [
        "new_user()"
      ],
      "metadata": {
        "colab": {
          "base_uri": "https://localhost:8080/"
        },
        "id": "fnye_G6VpPoJ",
        "outputId": "23831e0d-9f63-42f4-aadb-e3519bb8e404"
      },
      "execution_count": 16,
      "outputs": [
        {
          "output_type": "stream",
          "name": "stdout",
          "text": [
            "please enter a password  @gmail.com or @yahoo.com\n",
            "Enter a username:balaji@gmail.com\n",
            "password format should be in one uppercase,one lowercase and one digit \n",
            "password limit in length between 5 < password < 16\n",
            "Enter a pasword:Balaji777\n",
            "your successfully registerd,please login\n"
          ]
        }
      ]
    },
    {
      "cell_type": "markdown",
      "source": [
        "login()"
      ],
      "metadata": {
        "id": "Qt90aexfcwoU"
      }
    },
    {
      "cell_type": "code",
      "source": [
        "def login():\n",
        "  user_id = user()\n",
        "  password = pswd()\n",
        "  with open(\"user_data.csv\", mode=\"r\") as f:\n",
        "         reader = csv.reader(f, delimiter=\",\")\n",
        "         for row in reader:\n",
        "             if row ==[user,password]:\n",
        "                 print(\"login successfully.\")\n",
        "                 return True\n",
        "                 print(\"please try again!.\")\n",
        "  return (\"Welcome !!! You are login successfully.\")\n"
      ],
      "metadata": {
        "id": "La25SxcDXS9g"
      },
      "execution_count": 13,
      "outputs": []
    },
    {
      "cell_type": "code",
      "source": [
        "login()"
      ],
      "metadata": {
        "id": "jSakvMj7rcWl",
        "colab": {
          "base_uri": "https://localhost:8080/",
          "height": 122
        },
        "outputId": "251f0e3a-4f7f-4393-ada8-49fb00682fc7"
      },
      "execution_count": 14,
      "outputs": [
        {
          "name": "stdout",
          "output_type": "stream",
          "text": [
            "please enter a password  @gmail.com or @yahoo.com\n",
            "Enter a username:balaji@gmail.com\n",
            "password format should be in one uppercase,one lowercase and one digit \n",
            "password limit in length between 5 < password < 16\n",
            "Enter a pasword:Balaji777\n"
          ]
        },
        {
          "output_type": "execute_result",
          "data": {
            "text/plain": [
              "'Welcome !!! You are login successfully.'"
            ],
            "application/vnd.google.colaboratory.intrinsic+json": {
              "type": "string"
            }
          },
          "metadata": {},
          "execution_count": 14
        }
      ]
    },
    {
      "cell_type": "code",
      "source": [
        ""
      ],
      "metadata": {
        "id": "nJDYxFvXY7Lf"
      },
      "execution_count": null,
      "outputs": []
    }
  ]
}